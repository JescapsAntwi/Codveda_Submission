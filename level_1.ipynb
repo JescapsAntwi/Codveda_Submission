{
 "cells": [
  {
   "cell_type": "code",
   "execution_count": null,
   "id": "e857e925",
   "metadata": {},
   "outputs": [],
   "source": [
    "#level_1 -> Task_1\n",
    "#import necessary libraries\n",
    "import pandas as pd\n",
    "from sklearn.model_selection import train_test_split\n",
    "from sklearn.linear_model import LinearRegression\n",
    "from sklearn.preprocessing import StandardScaler"
   ]
  },
  {
   "cell_type": "code",
   "execution_count": 4,
   "id": "68d05abe",
   "metadata": {},
   "outputs": [],
   "source": [
    "#upload datasets\n",
    "#house dataset -> for linear regression\n",
    "#logistic regression -> churn dataset\n",
    "#classification -> iris dataset\n",
    "df = pd.read_csv('4) house Prediction Data Set.csv')"
   ]
  }
 ],
 "metadata": {
  "kernelspec": {
   "display_name": "Python 3",
   "language": "python",
   "name": "python3"
  },
  "language_info": {
   "codemirror_mode": {
    "name": "ipython",
    "version": 3
   },
   "file_extension": ".py",
   "mimetype": "text/x-python",
   "name": "python",
   "nbconvert_exporter": "python",
   "pygments_lexer": "ipython3",
   "version": "3.13.3"
  }
 },
 "nbformat": 4,
 "nbformat_minor": 5
}
