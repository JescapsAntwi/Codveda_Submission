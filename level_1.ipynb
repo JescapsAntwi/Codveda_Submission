{
 "cells": [
  {
   "cell_type": "code",
   "execution_count": null,
   "id": "e857e925",
   "metadata": {},
   "outputs": [],
   "source": [
    "#level_1 -> Task_1\n",
    "#import necessary libraries\n",
    "import pandas as pd\n",
    "from sklearn.model_selection import train_test_split\n",
    "from sklearn.linear_model import LinearRegression\n",
    "from sklearn.preprocessing import StandardScaler"
   ]
  },
  {
   "cell_type": "code",
   "execution_count": null,
   "id": "68d05abe",
   "metadata": {},
   "outputs": [],
   "source": [
    "#upload datasets\n",
    "#house dataset -> for linear regression\n",
    "#logistic regression -> churn dataset\n",
    "#classification -> iris dataset\n",
    "df = pd.read_csv('4) house Prediction Data Set.csv')\n"
   ]
  },
  {
   "cell_type": "code",
   "execution_count": 5,
   "id": "c1d96b39",
   "metadata": {},
   "outputs": [
    {
     "name": "stdout",
     "output_type": "stream",
     "text": [
      "  0.00632  18.00   2.310  0  0.5380  6.5750  65.20  4.0900   1  296.0  15.30 396.90   4.98  24.00\n",
      "0   0.02731   0.00   7.070  0  0.4690  6.4210  78...                                             \n",
      "1   0.02729   0.00   7.070  0  0.4690  7.1850  61...                                             \n",
      "2   0.03237   0.00   2.180  0  0.4580  6.9980  45...                                             \n",
      "3   0.06905   0.00   2.180  0  0.4580  7.1470  54...                                             \n",
      "4   0.02985   0.00   2.180  0  0.4580  6.4300  58...                                             \n"
     ]
    }
   ],
   "source": [
    "#view first rows of dataset\n",
    "print(df.head())"
   ]
  },
  {
   "cell_type": "code",
   "execution_count": null,
   "id": "2bcce242",
   "metadata": {},
   "outputs": [
    {
     "name": "stdout",
     "output_type": "stream",
     "text": [
      "0.00632  18.00   2.310  0  0.5380  6.5750  65.20  4.0900   1  296.0  15.30 396.90   4.98  24.00    0\n",
      "dtype: int64\n"
     ]
    }
   ],
   "source": [
    "#check for null values \n",
    "print(df.isnull().sum().sum())"
   ]
  }
 ],
 "metadata": {
  "kernelspec": {
   "display_name": "Python 3",
   "language": "python",
   "name": "python3"
  },
  "language_info": {
   "codemirror_mode": {
    "name": "ipython",
    "version": 3
   },
   "file_extension": ".py",
   "mimetype": "text/x-python",
   "name": "python",
   "nbconvert_exporter": "python",
   "pygments_lexer": "ipython3",
   "version": "3.13.3"
  }
 },
 "nbformat": 4,
 "nbformat_minor": 5
}
